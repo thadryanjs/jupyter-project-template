{
 "cells": [
  {
   "cell_type": "markdown",
   "id": "ea59392d",
   "metadata": {},
   "source": [
    "# Run mod1"
   ]
  },
  {
   "cell_type": "code",
   "execution_count": null,
   "id": "d29c9fa7",
   "metadata": {
    "title": "[code]"
   },
   "outputs": [],
   "source": [
    "from mod1.utils import mod1_test\n",
    "\n",
    "mod1_test()"
   ]
  }
 ],
 "metadata": {
  "jupytext": {
   "cell_metadata_filter": "title,-all",
   "main_language": "python",
   "notebook_metadata_filter": "-all"
  }
 },
 "nbformat": 4,
 "nbformat_minor": 5
}
