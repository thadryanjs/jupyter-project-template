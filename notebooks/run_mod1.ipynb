{
 "cells": [
  {
   "cell_type": "markdown",
   "id": "6dc99a68",
   "metadata": {},
   "source": [
    "# Run mod1"
   ]
  },
  {
   "cell_type": "code",
   "execution_count": null,
   "id": "190fbf4d",
   "metadata": {
    "title": "[code]"
   },
   "outputs": [],
   "source": [
    "import os\n",
    "from mod1.utils import mod1_test"
   ]
  },
  {
   "cell_type": "code",
   "execution_count": null,
   "id": "078fd20f",
   "metadata": {
    "title": "[code]"
   },
   "outputs": [],
   "source": [
    "mod1_test()"
   ]
  },
  {
   "cell_type": "code",
   "execution_count": null,
   "id": "602cafe1",
   "metadata": {
    "title": "[code]"
   },
   "outputs": [],
   "source": [
    "param1 = os.getenv(\"arg1\")\n",
    "param2 = os.getenv(\"arg2\")\n",
    "\n",
    "print(f\"param1: {param1}\")\n",
    "print(f\"param2: {param2}\")"
   ]
  }
 ],
 "metadata": {
  "jupytext": {
   "cell_metadata_filter": "title,-all",
   "main_language": "python",
   "notebook_metadata_filter": "-all"
  }
 },
 "nbformat": 4,
 "nbformat_minor": 5
}
