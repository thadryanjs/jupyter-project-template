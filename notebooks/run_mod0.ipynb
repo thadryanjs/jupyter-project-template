{
 "cells": [
  {
   "cell_type": "markdown",
   "id": "ed9c5d63",
   "metadata": {},
   "source": [
    "# Run mod0"
   ]
  },
  {
   "cell_type": "code",
   "execution_count": null,
   "id": "4d82417f",
   "metadata": {
    "title": "[code]"
   },
   "outputs": [],
   "source": [
    "from mod0.utils import mod0_test\n",
    "\n",
    "mod0_test()"
   ]
  },
  {
   "cell_type": "code",
   "execution_count": null,
   "id": "2d8b981b",
   "metadata": {
    "title": "[code]"
   },
   "outputs": [],
   "source": [
    "print(\"I've been modified\")"
   ]
  }
 ],
 "metadata": {
  "jupytext": {
   "cell_metadata_filter": "title,-all",
   "main_language": "python",
   "notebook_metadata_filter": "-all"
  }
 },
 "nbformat": 4,
 "nbformat_minor": 5
}
