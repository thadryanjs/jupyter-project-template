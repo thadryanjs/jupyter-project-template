{
 "cells": [
  {
   "cell_type": "markdown",
   "id": "4a062d9e",
   "metadata": {},
   "source": [
    "# Run mod0"
   ]
  },
  {
   "cell_type": "code",
   "execution_count": null,
   "id": "22ac644f",
   "metadata": {
    "title": "[code]"
   },
   "outputs": [],
   "source": [
    "from mod0.utils import mod0_test\n",
    "\n",
    "mod0_test()"
   ]
  }
 ],
 "metadata": {
  "jupytext": {
   "cell_metadata_filter": "title,-all",
   "main_language": "python",
   "notebook_metadata_filter": "-all"
  }
 },
 "nbformat": 4,
 "nbformat_minor": 5
}
