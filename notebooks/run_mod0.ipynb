{
 "cells": [
  {
   "cell_type": "markdown",
   "id": "52eb82b2",
   "metadata": {},
   "source": [
    "# Run mod0"
   ]
  },
  {
   "cell_type": "code",
   "execution_count": null,
   "id": "ee71c721",
   "metadata": {
    "title": "[code]"
   },
   "outputs": [],
   "source": [
    "from mod0.utils import mod0_test\n",
    "\n",
    "mod0_test()"
   ]
  }
 ],
 "metadata": {
  "jupytext": {
   "cell_metadata_filter": "title,-all",
   "main_language": "python",
   "notebook_metadata_filter": "-all"
  }
 },
 "nbformat": 4,
 "nbformat_minor": 5
}
