{
 "cells": [
  {
   "cell_type": "markdown",
   "id": "c0cdc6a6",
   "metadata": {},
   "source": [
    "# Run mod0"
   ]
  },
  {
   "cell_type": "code",
   "execution_count": null,
   "id": "688cb929",
   "metadata": {
    "title": "[code]"
   },
   "outputs": [],
   "source": [
    "from mod0.utils import mod0_test\n",
    "\n",
    "mod0_test()"
   ]
  },
  {
   "cell_type": "code",
   "execution_count": null,
   "id": "a5ccf799",
   "metadata": {
    "title": "[code]"
   },
   "outputs": [],
   "source": [
    "print(\"I've been modified\")"
   ]
  },
  {
   "cell_type": "markdown",
   "id": "938bfdd3",
   "metadata": {},
   "source": [
    "## More markdown"
   ]
  },
  {
   "cell_type": "code",
   "execution_count": null,
   "id": "78b70281",
   "metadata": {
    "title": "[code]"
   },
   "outputs": [],
   "source": [
    "print(\"I've been modified again\")"
   ]
  }
 ],
 "metadata": {
  "jupytext": {
   "cell_metadata_filter": "title,-all",
   "main_language": "python",
   "notebook_metadata_filter": "-all"
  }
 },
 "nbformat": 4,
 "nbformat_minor": 5
}
