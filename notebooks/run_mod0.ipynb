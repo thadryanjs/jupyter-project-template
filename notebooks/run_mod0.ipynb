{
 "cells": [
  {
   "cell_type": "markdown",
   "id": "ad1ef058",
   "metadata": {},
   "source": [
    "# Run mod0"
   ]
  },
  {
   "cell_type": "code",
   "execution_count": null,
   "id": "47b55896",
   "metadata": {
    "title": "[code]"
   },
   "outputs": [],
   "source": [
    "from mod0.utils import mod0_test\n",
    "\n",
    "mod0_test()"
   ]
  },
  {
   "cell_type": "code",
   "execution_count": null,
   "id": "d14fa289",
   "metadata": {
    "title": "[code]"
   },
   "outputs": [],
   "source": [
    "print(\"I've been modified\")"
   ]
  },
  {
   "cell_type": "markdown",
   "id": "2955519b",
   "metadata": {},
   "source": [
    "## More markdown"
   ]
  },
  {
   "cell_type": "code",
   "execution_count": null,
   "id": "29fec32e",
   "metadata": {
    "title": "[code]"
   },
   "outputs": [],
   "source": [
    "print(\"I've been modified again\")"
   ]
  }
 ],
 "metadata": {
  "jupytext": {
   "cell_metadata_filter": "title,-all",
   "main_language": "python",
   "notebook_metadata_filter": "-all"
  }
 },
 "nbformat": 4,
 "nbformat_minor": 5
}
