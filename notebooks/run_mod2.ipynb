{
 "cells": [
  {
   "cell_type": "markdown",
   "id": "842b3588",
   "metadata": {},
   "source": [
    "# Run mod2"
   ]
  },
  {
   "cell_type": "code",
   "execution_count": null,
   "id": "fa46f554",
   "metadata": {
    "title": "[code]"
   },
   "outputs": [],
   "source": [
    "from mod2.utils import mod2_test\n",
    "\n",
    "mod2_test()"
   ]
  }
 ],
 "metadata": {
  "jupytext": {
   "cell_metadata_filter": "title,-all",
   "main_language": "python",
   "notebook_metadata_filter": "-all"
  }
 },
 "nbformat": 4,
 "nbformat_minor": 5
}
