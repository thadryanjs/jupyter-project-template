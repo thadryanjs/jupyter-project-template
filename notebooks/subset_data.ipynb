{
 "cells": [
  {
   "cell_type": "code",
   "execution_count": null,
   "id": "c543c3fc",
   "metadata": {
    "lines_to_next_cell": 2,
    "title": "[code]"
   },
   "outputs": [],
   "source": [
    "from os import path\n",
    "\n",
    "import pandas as pd\n",
    "\n",
    "\n",
    "# handle the path in a tidy way\n",
    "current_path = path.abspath(\"\")\n",
    "\n",
    "input_filepath = path.join(current_path, \"..\", \"data/data.csv\")\n",
    "\n",
    "\n",
    "df = pd.read_csv(input_filepath)\n",
    "\n",
    "print(\"Full data:\")\n",
    "print(df.shape)\n",
    "print(df.head())"
   ]
  },
  {
   "cell_type": "code",
   "execution_count": null,
   "id": "05a6dbb8",
   "metadata": {
    "lines_to_next_cell": 2,
    "title": "[code]"
   },
   "outputs": [],
   "source": [
    "# get a 5% sample of the data\n",
    "df_sample = df.sample(frac=0.05)\n",
    "\n",
    "print(\"Sampled data:\")\n",
    "print(df_sample.shape)\n",
    "print(df_sample.head())"
   ]
  },
  {
   "cell_type": "code",
   "execution_count": null,
   "id": "548fcf81",
   "metadata": {
    "title": "[code]"
   },
   "outputs": [],
   "source": [
    "# write the sample to a new csv file\n",
    "output_filepath = path.join(current_path, \"..\", \"data_sample.csv\")\n",
    "\n",
    "df_sample.to_csv(output_filepath, index=False)"
   ]
  }
 ],
 "metadata": {
  "jupytext": {
   "cell_metadata_filter": "title,-all",
   "main_language": "python",
   "notebook_metadata_filter": "-all"
  }
 },
 "nbformat": 4,
 "nbformat_minor": 5
}
