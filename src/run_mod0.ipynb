{
 "cells": [
  {
   "cell_type": "markdown",
   "id": "24400313",
   "metadata": {},
   "source": [
    "# Run mod0"
   ]
  },
  {
   "cell_type": "code",
   "execution_count": null,
   "id": "15affb3f",
   "metadata": {
    "title": "[code]"
   },
   "outputs": [],
   "source": [
    "from mod0.utils import mod0_test\n",
    "\n",
    "mod0_test()"
   ]
  },
  {
   "cell_type": "code",
   "execution_count": null,
   "id": "9f08f37c",
   "metadata": {
    "title": "[code]"
   },
   "outputs": [],
   "source": [
    "print(\"I've been modified\")"
   ]
  },
  {
   "cell_type": "markdown",
   "id": "db233f4e",
   "metadata": {},
   "source": [
    "## More markdown"
   ]
  },
  {
   "cell_type": "code",
   "execution_count": null,
   "id": "554c91f2",
   "metadata": {
    "title": "[code]"
   },
   "outputs": [],
   "source": [
    "print(\"I've been modified again\")"
   ]
  }
 ],
 "metadata": {
  "jupytext": {
   "cell_metadata_filter": "title,-all",
   "main_language": "python",
   "notebook_metadata_filter": "-all"
  }
 },
 "nbformat": 4,
 "nbformat_minor": 5
}
